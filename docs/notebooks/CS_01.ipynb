{
 "cells": [
  {
   "cell_type": "markdown",
   "metadata": {},
   "source": [
    "## Use Lists to Build Cypher"
   ]
  },
  {
   "cell_type": "code",
   "execution_count": 1,
   "metadata": {
    "collapsed": true
   },
   "outputs": [],
   "source": [
    "s = \"lady gaga rules\""
   ]
  },
  {
   "cell_type": "code",
   "execution_count": 2,
   "metadata": {
    "collapsed": false
   },
   "outputs": [
    {
     "data": {
      "text/plain": [
       "'lady'"
      ]
     },
     "execution_count": 2,
     "metadata": {},
     "output_type": "execute_result"
    }
   ],
   "source": [
    "s[0:4]"
   ]
  },
  {
   "cell_type": "code",
   "execution_count": 3,
   "metadata": {
    "collapsed": false
   },
   "outputs": [
    {
     "data": {
      "text/plain": [
       "'lgr'"
      ]
     },
     "execution_count": 3,
     "metadata": {},
     "output_type": "execute_result"
    }
   ],
   "source": [
    "s[0]+s[5]+s[10]"
   ]
  },
  {
   "cell_type": "code",
   "execution_count": 4,
   "metadata": {
    "collapsed": false
   },
   "outputs": [
    {
     "data": {
      "text/plain": [
       "'lgr'"
      ]
     },
     "execution_count": 4,
     "metadata": {},
     "output_type": "execute_result"
    }
   ],
   "source": [
    "\"\".join([ s[i] for i in [0,5,10] ])"
   ]
  },
  {
   "cell_type": "code",
   "execution_count": 5,
   "metadata": {
    "collapsed": true
   },
   "outputs": [],
   "source": [
    "s = \"lady gaga rules\""
   ]
  },
  {
   "cell_type": "code",
   "execution_count": 6,
   "metadata": {
    "collapsed": false
   },
   "outputs": [],
   "source": [
    "cypher = [0,1,2,3,4,5,6,7,8,9,10,11,12,13,14]"
   ]
  },
  {
   "cell_type": "code",
   "execution_count": 7,
   "metadata": {
    "collapsed": false
   },
   "outputs": [],
   "source": [
    "cypher = [14,3,11,4,2,9,12,5,1,13,0,10,6,8,7]"
   ]
  },
  {
   "cell_type": "code",
   "execution_count": 8,
   "metadata": {
    "collapsed": true
   },
   "outputs": [],
   "source": [
    "scrambled = \"\".join([ s[i] for i in cypher ])"
   ]
  },
  {
   "cell_type": "code",
   "execution_count": 9,
   "metadata": {
    "collapsed": false
   },
   "outputs": [
    {
     "data": {
      "text/plain": [
       "'syu d lgaelraag'"
      ]
     },
     "execution_count": 9,
     "metadata": {},
     "output_type": "execute_result"
    }
   ],
   "source": [
    "scrambled"
   ]
  },
  {
   "cell_type": "code",
   "execution_count": 10,
   "metadata": {
    "collapsed": false
   },
   "outputs": [],
   "source": [
    "unscrambled = [' ']*15"
   ]
  },
  {
   "cell_type": "code",
   "execution_count": 11,
   "metadata": {
    "collapsed": false
   },
   "outputs": [
    {
     "data": {
      "text/plain": [
       "[' ', ' ', ' ', ' ', ' ', ' ', ' ', ' ', ' ', ' ', ' ', ' ', ' ', ' ', ' ']"
      ]
     },
     "execution_count": 11,
     "metadata": {},
     "output_type": "execute_result"
    }
   ],
   "source": [
    "unscrambled"
   ]
  },
  {
   "cell_type": "code",
   "execution_count": 12,
   "metadata": {
    "collapsed": false
   },
   "outputs": [
    {
     "data": {
      "text/plain": [
       "[0, 1, 2, 3, 4, 5, 6, 7, 8, 9, 10, 11, 12, 13, 14]"
      ]
     },
     "execution_count": 12,
     "metadata": {},
     "output_type": "execute_result"
    }
   ],
   "source": [
    "list(range(15))"
   ]
  },
  {
   "cell_type": "code",
   "execution_count": 13,
   "metadata": {
    "collapsed": false
   },
   "outputs": [
    {
     "name": "stdout",
     "output_type": "stream",
     "text": [
      "i=0     cypher[i]=14     scrambled[i]=s \n",
      " unscrambled='              s'\n",
      "i=1     cypher[i]=3     scrambled[i]=y \n",
      " unscrambled='   y          s'\n",
      "i=2     cypher[i]=11     scrambled[i]=u \n",
      " unscrambled='   y       u  s'\n",
      "i=3     cypher[i]=4     scrambled[i]=  \n",
      " unscrambled='   y       u  s'\n",
      "i=4     cypher[i]=2     scrambled[i]=d \n",
      " unscrambled='  dy       u  s'\n",
      "i=5     cypher[i]=9     scrambled[i]=  \n",
      " unscrambled='  dy       u  s'\n",
      "i=6     cypher[i]=12     scrambled[i]=l \n",
      " unscrambled='  dy       ul s'\n",
      "i=7     cypher[i]=5     scrambled[i]=g \n",
      " unscrambled='  dy g     ul s'\n",
      "i=8     cypher[i]=1     scrambled[i]=a \n",
      " unscrambled=' ady g     ul s'\n",
      "i=9     cypher[i]=13     scrambled[i]=e \n",
      " unscrambled=' ady g     ules'\n",
      "i=10     cypher[i]=0     scrambled[i]=l \n",
      " unscrambled='lady g     ules'\n",
      "i=11     cypher[i]=10     scrambled[i]=r \n",
      " unscrambled='lady g    rules'\n",
      "i=12     cypher[i]=6     scrambled[i]=a \n",
      " unscrambled='lady ga   rules'\n",
      "i=13     cypher[i]=8     scrambled[i]=a \n",
      " unscrambled='lady ga a rules'\n",
      "i=14     cypher[i]=7     scrambled[i]=g \n",
      " unscrambled='lady gaga rules'\n"
     ]
    }
   ],
   "source": [
    "for i in range(15):\n",
    "    unscrambled[cypher[i]] = scrambled[i]\n",
    "    print(\"i=%s     cypher[i]=%s     scrambled[i]=%s \\n unscrambled='%s'\" % \\\n",
    "          (i,cypher[i],scrambled[i],\"\".join(unscrambled)))\n"
   ]
  },
  {
   "cell_type": "code",
   "execution_count": 14,
   "metadata": {
    "collapsed": false
   },
   "outputs": [
    {
     "data": {
      "text/plain": [
       "'lady gaga rules'"
      ]
     },
     "execution_count": 14,
     "metadata": {},
     "output_type": "execute_result"
    }
   ],
   "source": [
    "\"\".join(unscrambled)"
   ]
  },
  {
   "cell_type": "markdown",
   "metadata": {},
   "source": [
    "## Loops"
   ]
  },
  {
   "cell_type": "code",
   "execution_count": 19,
   "metadata": {
    "collapsed": true
   },
   "outputs": [
    {
     "name": "stdout",
     "output_type": "stream",
     "text": [
      "Searching for pip\r\n",
      "Best match: pip 9.0.1\r\n",
      "Adding pip 9.0.1 to easy-install.pth file\r\n",
      "Installing pip script to /usr/local/bin\r\n",
      "Installing pip2.7 script to /usr/local/bin\r\n",
      "Installing pip2 script to /usr/local/bin\r\n",
      "\r\n",
      "Using /usr/local/lib/python2.7/site-packages\r\n",
      "Processing dependencies for pip\r\n",
      "Finished processing dependencies for pip\r\n"
     ]
    }
   ],
   "source": [
    "!easy_install pip"
   ]
  },
  {
   "cell_type": "code",
   "execution_count": 18,
   "metadata": {
    "collapsed": true
   },
   "outputs": [
    {
     "name": "stdout",
     "output_type": "stream",
     "text": [
      "Requirement already satisfied: tutormagic in /usr/local/lib/python3.6/site-packages\n",
      "Requirement already satisfied: jupyter>=1.0 in /usr/local/lib/python3.6/site-packages (from tutormagic)\n",
      "Requirement already satisfied: jupyter-console in /usr/local/lib/python3.6/site-packages (from jupyter>=1.0->tutormagic)\n",
      "Requirement already satisfied: nbconvert in /usr/local/lib/python3.6/site-packages (from jupyter>=1.0->tutormagic)\n",
      "Requirement already satisfied: notebook in /usr/local/lib/python3.6/site-packages (from jupyter>=1.0->tutormagic)\n",
      "Requirement already satisfied: ipykernel in /usr/local/lib/python3.6/site-packages (from jupyter>=1.0->tutormagic)\n",
      "Requirement already satisfied: ipywidgets in /usr/local/lib/python3.6/site-packages (from jupyter>=1.0->tutormagic)\n",
      "Requirement already satisfied: qtconsole in /usr/local/lib/python3.6/site-packages (from jupyter>=1.0->tutormagic)\n",
      "Requirement already satisfied: jupyter-client in /usr/local/lib/python3.6/site-packages (from jupyter-console->jupyter>=1.0->tutormagic)\n",
      "Requirement already satisfied: pygments in /usr/local/lib/python3.6/site-packages (from jupyter-console->jupyter>=1.0->tutormagic)\n",
      "Requirement already satisfied: prompt-toolkit<2.0.0,>=1.0.0 in /usr/local/lib/python3.6/site-packages (from jupyter-console->jupyter>=1.0->tutormagic)\n",
      "Requirement already satisfied: ipython in /usr/local/lib/python3.6/site-packages (from jupyter-console->jupyter>=1.0->tutormagic)\n",
      "Requirement already satisfied: jupyter-core in /usr/local/lib/python3.6/site-packages (from nbconvert->jupyter>=1.0->tutormagic)\n",
      "Requirement already satisfied: traitlets>=4.2 in /usr/local/lib/python3.6/site-packages (from nbconvert->jupyter>=1.0->tutormagic)\n",
      "Requirement already satisfied: jinja2 in /usr/local/lib/python3.6/site-packages (from nbconvert->jupyter>=1.0->tutormagic)\n",
      "Requirement already satisfied: entrypoints>=0.2.2 in /usr/local/lib/python3.6/site-packages (from nbconvert->jupyter>=1.0->tutormagic)\n",
      "Requirement already satisfied: pandocfilters>=1.4.1 in /usr/local/lib/python3.6/site-packages (from nbconvert->jupyter>=1.0->tutormagic)\n",
      "Requirement already satisfied: bleach in /usr/local/lib/python3.6/site-packages (from nbconvert->jupyter>=1.0->tutormagic)\n",
      "Requirement already satisfied: nbformat in /usr/local/lib/python3.6/site-packages (from nbconvert->jupyter>=1.0->tutormagic)\n",
      "Requirement already satisfied: testpath in /usr/local/lib/python3.6/site-packages (from nbconvert->jupyter>=1.0->tutormagic)\n",
      "Requirement already satisfied: mistune!=0.6 in /usr/local/lib/python3.6/site-packages (from nbconvert->jupyter>=1.0->tutormagic)\n",
      "Requirement already satisfied: ipython-genutils in /usr/local/lib/python3.6/site-packages (from notebook->jupyter>=1.0->tutormagic)\n",
      "Requirement already satisfied: tornado>=4 in /usr/local/lib/python3.6/site-packages (from notebook->jupyter>=1.0->tutormagic)\n",
      "Requirement already satisfied: terminado>=0.3.3; sys_platform != \"win32\" in /usr/local/lib/python3.6/site-packages (from notebook->jupyter>=1.0->tutormagic)\n",
      "Requirement already satisfied: widgetsnbextension>=1.2.6 in /usr/local/lib/python3.6/site-packages (from ipywidgets->jupyter>=1.0->tutormagic)\n",
      "Requirement already satisfied: pyzmq>=13 in /usr/local/lib/python3.6/site-packages (from jupyter-client->jupyter-console->jupyter>=1.0->tutormagic)\n",
      "Requirement already satisfied: wcwidth in /usr/local/lib/python3.6/site-packages (from prompt-toolkit<2.0.0,>=1.0.0->jupyter-console->jupyter>=1.0->tutormagic)\n",
      "Requirement already satisfied: six>=1.9.0 in /usr/local/lib/python3.6/site-packages (from prompt-toolkit<2.0.0,>=1.0.0->jupyter-console->jupyter>=1.0->tutormagic)\n",
      "Requirement already satisfied: simplegeneric>0.8 in /usr/local/lib/python3.6/site-packages (from ipython->jupyter-console->jupyter>=1.0->tutormagic)\n",
      "Requirement already satisfied: appnope; sys_platform == \"darwin\" in /usr/local/lib/python3.6/site-packages (from ipython->jupyter-console->jupyter>=1.0->tutormagic)\n",
      "Requirement already satisfied: decorator in /usr/local/lib/python3.6/site-packages (from ipython->jupyter-console->jupyter>=1.0->tutormagic)\n",
      "Requirement already satisfied: setuptools>=18.5 in /usr/local/lib/python3.6/site-packages (from ipython->jupyter-console->jupyter>=1.0->tutormagic)\n",
      "Requirement already satisfied: pickleshare in /usr/local/lib/python3.6/site-packages (from ipython->jupyter-console->jupyter>=1.0->tutormagic)\n",
      "Requirement already satisfied: pexpect; sys_platform != \"win32\" in /usr/local/lib/python3.6/site-packages (from ipython->jupyter-console->jupyter>=1.0->tutormagic)\n",
      "Requirement already satisfied: MarkupSafe>=0.23 in /usr/local/lib/python3.6/site-packages (from jinja2->nbconvert->jupyter>=1.0->tutormagic)\n",
      "Requirement already satisfied: html5lib!=0.9999,!=0.99999,<0.99999999,>=0.999 in /usr/local/lib/python3.6/site-packages (from bleach->nbconvert->jupyter>=1.0->tutormagic)\n",
      "Requirement already satisfied: jsonschema!=2.5.0,>=2.4 in /usr/local/lib/python3.6/site-packages (from nbformat->nbconvert->jupyter>=1.0->tutormagic)\n",
      "Requirement already satisfied: ptyprocess in /usr/local/lib/python3.6/site-packages (from terminado>=0.3.3; sys_platform != \"win32\"->notebook->jupyter>=1.0->tutormagic)\n"
     ]
    }
   ],
   "source": [
    "!pip3 install tutormagic"
   ]
  },
  {
   "cell_type": "code",
   "execution_count": 1,
   "metadata": {
    "collapsed": false
   },
   "outputs": [],
   "source": [
    "%load_ext tutormagic"
   ]
  },
  {
   "cell_type": "code",
   "execution_count": 16,
   "metadata": {
    "collapsed": false
   },
   "outputs": [
    {
     "data": {
      "text/html": [
       "\n",
       "        <iframe\n",
       "            width=\"100%\"\n",
       "            height=\"350\"\n",
       "            src=\"http://pythontutor.com/iframe-embed.html#code=x%20%3D%203%0Afor%20i%20in%20range%283%29%3A%0A%20%20%20%20x%20%3D%20x%20%2B%201&origin=opt-frontend.js&cumulative=false&heapPrimitives=false&textReferences=false&py=3&rawInputLstJSON=%5B%5D&curInstr=0&codeDivWidth=50%25&codeDivHeight=100%25\"\n",
       "            frameborder=\"0\"\n",
       "            allowfullscreen\n",
       "        ></iframe>\n",
       "        "
      ],
      "text/plain": [
       "<IPython.lib.display.IFrame at 0x1058e1ac8>"
      ]
     },
     "metadata": {},
     "output_type": "display_data"
    }
   ],
   "source": [
    "%%tutor --lang python3\n",
    "x = 3\n",
    "for i in range(3):\n",
    "    x = x + 1\n"
   ]
  },
  {
   "cell_type": "code",
   "execution_count": 21,
   "metadata": {
    "collapsed": false
   },
   "outputs": [
    {
     "data": {
      "text/html": [
       "\n",
       "        <iframe\n",
       "            width=\"100%\"\n",
       "            height=\"350\"\n",
       "            src=\"http://pythontutor.com/iframe-embed.html#code=x%20%3D%201%0Afor%20i%20in%20range%283%29%3A%0A%20%20%20%20x%20%3D%20x%20%2B%20i&origin=opt-frontend.js&cumulative=false&heapPrimitives=false&textReferences=false&py=3&rawInputLstJSON=%5B%5D&curInstr=0&codeDivWidth=50%25&codeDivHeight=100%25\"\n",
       "            frameborder=\"0\"\n",
       "            allowfullscreen\n",
       "        ></iframe>\n",
       "        "
      ],
      "text/plain": [
       "<IPython.lib.display.IFrame at 0x105973588>"
      ]
     },
     "metadata": {},
     "output_type": "display_data"
    }
   ],
   "source": [
    "%%tutor --lang python3\n",
    "x = 1\n",
    "for i in range(3):\n",
    "    x = x + i\n"
   ]
  },
  {
   "cell_type": "code",
   "execution_count": 22,
   "metadata": {
    "collapsed": false
   },
   "outputs": [
    {
     "data": {
      "text/plain": [
       "True"
      ]
     },
     "execution_count": 22,
     "metadata": {},
     "output_type": "execute_result"
    }
   ],
   "source": [
    "'i' in 'pilon'"
   ]
  },
  {
   "cell_type": "markdown",
   "metadata": {},
   "source": [
    "## Functions"
   ]
  },
  {
   "cell_type": "code",
   "execution_count": 23,
   "metadata": {
    "collapsed": false
   },
   "outputs": [],
   "source": [
    "def flipside(s):\n",
    "    \"\"\" flipside(s): swaps s's sides!\n",
    "        input s: a string\n",
    "    \"\"\"\n",
    "    x = len(s)//2\n",
    "    return s[x:] + s[:x]\n"
   ]
  },
  {
   "cell_type": "code",
   "execution_count": 24,
   "metadata": {
    "collapsed": false
   },
   "outputs": [
    {
     "data": {
      "text/plain": [
       "<function __main__.flipside>"
      ]
     },
     "execution_count": 24,
     "metadata": {},
     "output_type": "execute_result"
    }
   ],
   "source": [
    "flipside"
   ]
  },
  {
   "cell_type": "code",
   "execution_count": 25,
   "metadata": {
    "collapsed": false
   },
   "outputs": [
    {
     "data": {
      "text/html": [
       "\n",
       "        <iframe\n",
       "            width=\"100%\"\n",
       "            height=\"350\"\n",
       "            src=\"http://pythontutor.com/iframe-embed.html#code=def%20flipside%28s%29%3A%0A%20%20%20%20%22%22%22%20flipside%28s%29%3A%20swaps%20s%27s%20sides%21%0A%20%20%20%20%20%20%20%20input%20s%3A%20a%20string%0A%20%20%20%20%22%22%22%0A%20%20%20%20x%20%3D%20len%28s%29//2%0A%20%20%20%20return%20s%5Bx%3A%5D%20%2B%20s%5B%3Ax%5D%0A%0Ax%20%3D%2012234%0Ay%20%3D%20flipside%28%22abcdef%22%29&origin=opt-frontend.js&cumulative=false&heapPrimitives=false&textReferences=false&py=3&rawInputLstJSON=%5B%5D&curInstr=0&codeDivWidth=50%25&codeDivHeight=100%25\"\n",
       "            frameborder=\"0\"\n",
       "            allowfullscreen\n",
       "        ></iframe>\n",
       "        "
      ],
      "text/plain": [
       "<IPython.lib.display.IFrame at 0x105973eb8>"
      ]
     },
     "metadata": {},
     "output_type": "display_data"
    }
   ],
   "source": [
    "%%tutor --lang python3\n",
    "def flipside(s):\n",
    "    \"\"\" flipside(s): swaps s's sides!\n",
    "        input s: a string\n",
    "    \"\"\"\n",
    "    x = len(s)//2\n",
    "    return s[x:] + s[:x]\n",
    "\n",
    "x = 12234\n",
    "y = flipside(\"abcdef\")"
   ]
  },
  {
   "cell_type": "code",
   "execution_count": 26,
   "metadata": {
    "collapsed": false
   },
   "outputs": [],
   "source": [
    "def hours_to_minutes(x):\n",
    "    return x*60"
   ]
  },
  {
   "cell_type": "code",
   "execution_count": 27,
   "metadata": {
    "collapsed": false
   },
   "outputs": [
    {
     "data": {
      "text/plain": [
       "720"
      ]
     },
     "execution_count": 27,
     "metadata": {},
     "output_type": "execute_result"
    }
   ],
   "source": [
    "hours_to_minutes(12)"
   ]
  },
  {
   "cell_type": "markdown",
   "metadata": {},
   "source": [
    "## Turtle Graphics"
   ]
  },
  {
   "cell_type": "code",
   "execution_count": 28,
   "metadata": {
    "collapsed": false
   },
   "outputs": [],
   "source": [
    "import turtle"
   ]
  },
  {
   "cell_type": "code",
   "execution_count": 29,
   "metadata": {
    "collapsed": false
   },
   "outputs": [],
   "source": [
    "wn = turtle.Screen()"
   ]
  },
  {
   "cell_type": "code",
   "execution_count": 30,
   "metadata": {
    "collapsed": true
   },
   "outputs": [],
   "source": [
    "alex = turtle.Turtle()"
   ]
  },
  {
   "cell_type": "code",
   "execution_count": 31,
   "metadata": {
    "collapsed": false
   },
   "outputs": [],
   "source": [
    "alex.forward(50)"
   ]
  },
  {
   "cell_type": "code",
   "execution_count": 32,
   "metadata": {
    "collapsed": false
   },
   "outputs": [],
   "source": [
    "alex.left(90)"
   ]
  },
  {
   "cell_type": "code",
   "execution_count": 33,
   "metadata": {
    "collapsed": true
   },
   "outputs": [],
   "source": [
    "alex.forward(30)"
   ]
  },
  {
   "cell_type": "code",
   "execution_count": 34,
   "metadata": {
    "collapsed": false
   },
   "outputs": [
    {
     "data": {
      "text/plain": [
       "(50.00,30.00)"
      ]
     },
     "execution_count": 34,
     "metadata": {},
     "output_type": "execute_result"
    }
   ],
   "source": [
    "alex.position()"
   ]
  },
  {
   "cell_type": "code",
   "execution_count": 40,
   "metadata": {
    "collapsed": false
   },
   "outputs": [],
   "source": [
    "wn.mainloop()"
   ]
  },
  {
   "cell_type": "code",
   "execution_count": 36,
   "metadata": {
    "collapsed": false
   },
   "outputs": [],
   "source": [
    "wn = turtle.Screen()"
   ]
  },
  {
   "cell_type": "code",
   "execution_count": 37,
   "metadata": {
    "collapsed": false
   },
   "outputs": [],
   "source": [
    "wn.bgcolor(\"red\")"
   ]
  },
  {
   "cell_type": "code",
   "execution_count": 38,
   "metadata": {
    "collapsed": true
   },
   "outputs": [],
   "source": [
    "wn.title(\"Hello\")"
   ]
  },
  {
   "cell_type": "code",
   "execution_count": null,
   "metadata": {
    "collapsed": false
   },
   "outputs": [],
   "source": [
    "tess = turtle.Turtle()"
   ]
  },
  {
   "cell_type": "code",
   "execution_count": null,
   "metadata": {
    "collapsed": true
   },
   "outputs": [],
   "source": [
    "tess.color(\"blue\")"
   ]
  },
  {
   "cell_type": "code",
   "execution_count": null,
   "metadata": {
    "collapsed": true
   },
   "outputs": [],
   "source": [
    "tess.pensize(3)"
   ]
  },
  {
   "cell_type": "code",
   "execution_count": null,
   "metadata": {
    "collapsed": true
   },
   "outputs": [],
   "source": [
    "tess.forward(50)"
   ]
  },
  {
   "cell_type": "code",
   "execution_count": null,
   "metadata": {
    "collapsed": true
   },
   "outputs": [],
   "source": [
    "tess.left(120)"
   ]
  },
  {
   "cell_type": "code",
   "execution_count": null,
   "metadata": {
    "collapsed": true
   },
   "outputs": [],
   "source": [
    "tess.forward(50)"
   ]
  },
  {
   "cell_type": "code",
   "execution_count": null,
   "metadata": {
    "collapsed": true
   },
   "outputs": [],
   "source": [
    "alex = turtle.Turtle()\n",
    "alex.color(\"green\")\n",
    "alex.pensize(10)\n",
    "alex.forward(60)\n",
    "alex.left(90)\n",
    "alex.forward(60)\n",
    "alex.left(90)\n",
    "alex.forward(60)\n",
    "alex.left(90)\n",
    "alex.forward(60)\n",
    "alex.left(90)"
   ]
  },
  {
   "cell_type": "markdown",
   "metadata": {},
   "source": [
    "## Associative Arrays (Python dict)"
   ]
  },
  {
   "cell_type": "code",
   "execution_count": null,
   "metadata": {
    "collapsed": true
   },
   "outputs": [],
   "source": [
    "my_friends = {}"
   ]
  },
  {
   "cell_type": "code",
   "execution_count": null,
   "metadata": {
    "collapsed": false
   },
   "outputs": [],
   "source": [
    "import turtle\n",
    "for name in [\"zoyka\",\"maruska\",\"zulfia\",\"gulchatay\"]:\n",
    "    x = turtle.Turtle()\n",
    "    my_friends[name] = x\n"
   ]
  },
  {
   "cell_type": "code",
   "execution_count": null,
   "metadata": {
    "collapsed": false
   },
   "outputs": [],
   "source": [
    "#!pip install tutormagic\n",
    "%load_ext tutormagic"
   ]
  },
  {
   "cell_type": "code",
   "execution_count": null,
   "metadata": {
    "collapsed": false
   },
   "outputs": [],
   "source": [
    "%%tutor --lang python3\n",
    "my_other_friends = {}\n",
    "for name in [\"zoyka\",\"maruska\",\"zulfia\",\"gulchatay\"]:\n",
    "    x = name + \"_other\"\n",
    "    my_other_friends[name] = x\n"
   ]
  },
  {
   "cell_type": "code",
   "execution_count": null,
   "metadata": {
    "collapsed": false
   },
   "outputs": [],
   "source": [
    "my_other_friends = {}\n",
    "for name in [\"zoyka\",\"maruska\",\"zulfia\",\"gulchatay\"]:\n",
    "    x = name + \"_other\"\n",
    "    my_other_friends[name] = x\n",
    "my_other_friends"
   ]
  },
  {
   "cell_type": "code",
   "execution_count": null,
   "metadata": {
    "collapsed": false
   },
   "outputs": [],
   "source": [
    "my_other_friends[\"zulfia\"] = \"zulfia_this\""
   ]
  },
  {
   "cell_type": "code",
   "execution_count": null,
   "metadata": {
    "collapsed": false
   },
   "outputs": [],
   "source": [
    "my_other_friends[\"zulfia\"]"
   ]
  },
  {
   "cell_type": "code",
   "execution_count": null,
   "metadata": {
    "collapsed": true
   },
   "outputs": [],
   "source": [
    "y = [\"todd\",\"john\",\"maruska\",\"anna\",\"soyka\"]"
   ]
  },
  {
   "cell_type": "code",
   "execution_count": null,
   "metadata": {
    "collapsed": false
   },
   "outputs": [],
   "source": [
    "print(\"hgsdadgsah\")"
   ]
  },
  {
   "cell_type": "code",
   "execution_count": null,
   "metadata": {
    "collapsed": false
   },
   "outputs": [],
   "source": [
    "print(\"zulfiya\" in my_other_friends)"
   ]
  },
  {
   "cell_type": "code",
   "execution_count": null,
   "metadata": {
    "collapsed": false
   },
   "outputs": [],
   "source": [
    "for z in y:\n",
    "    print(z in my_other_friends)\n"
   ]
  },
  {
   "cell_type": "code",
   "execution_count": null,
   "metadata": {
    "collapsed": false
   },
   "outputs": [],
   "source": [
    "type(my_other_friends)"
   ]
  },
  {
   "cell_type": "code",
   "execution_count": null,
   "metadata": {
    "collapsed": false
   },
   "outputs": [],
   "source": [
    "my_other_friends.keys()"
   ]
  },
  {
   "cell_type": "code",
   "execution_count": null,
   "metadata": {
    "collapsed": false
   },
   "outputs": [],
   "source": [
    "my_other_friends"
   ]
  },
  {
   "cell_type": "code",
   "execution_count": null,
   "metadata": {
    "collapsed": false
   },
   "outputs": [],
   "source": [
    "y"
   ]
  },
  {
   "cell_type": "code",
   "execution_count": null,
   "metadata": {
    "collapsed": false
   },
   "outputs": [],
   "source": [
    "y[0]"
   ]
  },
  {
   "cell_type": "code",
   "execution_count": null,
   "metadata": {
    "collapsed": false
   },
   "outputs": [],
   "source": [
    "y[3]"
   ]
  },
  {
   "cell_type": "code",
   "execution_count": null,
   "metadata": {
    "collapsed": false
   },
   "outputs": [],
   "source": [
    "my_other_friends[\"fthhgfghf\"]"
   ]
  },
  {
   "cell_type": "code",
   "execution_count": null,
   "metadata": {
    "collapsed": false
   },
   "outputs": [],
   "source": [
    "\"fthhgfghf\" in my_other_friends"
   ]
  },
  {
   "cell_type": "markdown",
   "metadata": {},
   "source": [
    "## Loops with Turtle"
   ]
  },
  {
   "cell_type": "code",
   "execution_count": null,
   "metadata": {
    "collapsed": true
   },
   "outputs": [],
   "source": [
    "import turtle"
   ]
  },
  {
   "cell_type": "code",
   "execution_count": null,
   "metadata": {
    "collapsed": true
   },
   "outputs": [],
   "source": [
    "wn = turtle.Screen()"
   ]
  },
  {
   "cell_type": "code",
   "execution_count": null,
   "metadata": {
    "collapsed": false
   },
   "outputs": [],
   "source": [
    "kuzya = turtle.Turtle()"
   ]
  },
  {
   "cell_type": "code",
   "execution_count": null,
   "metadata": {
    "collapsed": true
   },
   "outputs": [],
   "source": [
    "kuzya.pensize(10)"
   ]
  },
  {
   "cell_type": "code",
   "execution_count": null,
   "metadata": {
    "collapsed": true
   },
   "outputs": [],
   "source": [
    "alex = kuzya"
   ]
  },
  {
   "cell_type": "code",
   "execution_count": null,
   "metadata": {
    "collapsed": false
   },
   "outputs": [],
   "source": [
    "alex.forward(60)\n",
    "alex.left(90)\n",
    "alex.forward(60)\n",
    "alex.left(90)\n",
    "alex.forward(60)\n",
    "alex.left(90)\n",
    "alex.forward(60)\n",
    "alex.left(90)"
   ]
  },
  {
   "cell_type": "code",
   "execution_count": null,
   "metadata": {
    "collapsed": true
   },
   "outputs": [],
   "source": [
    "wn.mainloop()"
   ]
  },
  {
   "cell_type": "code",
   "execution_count": null,
   "metadata": {
    "collapsed": true
   },
   "outputs": [],
   "source": [
    "for i in range(20):\n",
    "    alex.forward(i*i)\n",
    "    alex.left(i*i)"
   ]
  },
  {
   "cell_type": "code",
   "execution_count": 41,
   "metadata": {
    "collapsed": false
   },
   "outputs": [
    {
     "data": {
      "text/plain": [
       "<turtle.Turtle at 0x10636b320>"
      ]
     },
     "execution_count": 41,
     "metadata": {},
     "output_type": "execute_result"
    }
   ],
   "source": [
    "alex"
   ]
  },
  {
   "cell_type": "markdown",
   "metadata": {},
   "source": [
    "## Golden Ratio "
   ]
  },
  {
   "cell_type": "code",
   "execution_count": 43,
   "metadata": {
    "collapsed": false
   },
   "outputs": [
    {
     "data": {
      "text/html": [
       "<iframe src=https://en.wikipedia.org/wiki/Golden_ratio width=100% height=800></iframe>"
      ],
      "text/plain": [
       "<IPython.core.display.HTML object>"
      ]
     },
     "execution_count": 43,
     "metadata": {},
     "output_type": "execute_result"
    }
   ],
   "source": [
    "import IPython\n",
    "url = 'https://en.wikipedia.org/wiki/Golden_ratio'\n",
    "iframe = '<iframe src=' + url + ' width=100% height=800></iframe>'\n",
    "IPython.display.HTML(iframe)"
   ]
  },
  {
   "cell_type": "markdown",
   "metadata": {},
   "source": [
    "[Link to Wiki Page](https://en.wikipedia.org/wiki/Golden_ratio)"
   ]
  },
  {
   "cell_type": "markdown",
   "metadata": {},
   "source": [
    "## Fibonacchi Numbers"
   ]
  },
  {
   "cell_type": "code",
   "execution_count": 85,
   "metadata": {
    "collapsed": false
   },
   "outputs": [
    {
     "data": {
      "text/html": [
       "<iframe src=https://en.wikipedia.org/wiki/Fibonacci_number width=100% height=800></iframe>"
      ],
      "text/plain": [
       "<IPython.core.display.HTML object>"
      ]
     },
     "execution_count": 85,
     "metadata": {},
     "output_type": "execute_result"
    }
   ],
   "source": [
    "import IPython\n",
    "url = 'https://en.wikipedia.org/wiki/Fibonacci_number'\n",
    "iframe = '<iframe src=' + url + ' width=100% height=800></iframe>'\n",
    "IPython.display.HTML(iframe)"
   ]
  },
  {
   "cell_type": "markdown",
   "metadata": {},
   "source": [
    "[Link to Web Page for Fibonacci Numbers](https://en.wikipedia.org/wiki/Fibonacci_number)"
   ]
  },
  {
   "cell_type": "markdown",
   "metadata": {},
   "source": [
    "### Recursion"
   ]
  },
  {
   "cell_type": "code",
   "execution_count": 2,
   "metadata": {
    "collapsed": true
   },
   "outputs": [],
   "source": [
    "def F_rec(n):\n",
    "    if n == 0: return 0\n",
    "    elif n == 1: return 1\n",
    "    else: return F_rec(n-1)+F_rec(n-2)\n"
   ]
  },
  {
   "cell_type": "code",
   "execution_count": 5,
   "metadata": {
    "collapsed": false
   },
   "outputs": [
    {
     "data": {
      "text/plain": [
       "102334155"
      ]
     },
     "execution_count": 5,
     "metadata": {},
     "output_type": "execute_result"
    }
   ],
   "source": [
    "F_rec(40)"
   ]
  },
  {
   "cell_type": "code",
   "execution_count": 73,
   "metadata": {
    "collapsed": false
   },
   "outputs": [
    {
     "data": {
      "text/html": [
       "\n",
       "        <iframe\n",
       "            width=\"100%\"\n",
       "            height=\"350\"\n",
       "            src=\"http://pythontutor.com/iframe-embed.html#code=def%20F_rec%28n%29%3A%0A%20%20%20%20if%20n%20%3D%3D%200%3A%20return%200%0A%20%20%20%20elif%20n%20%3D%3D%201%3A%20return%201%0A%20%20%20%20else%3A%20return%20F_rec%28n-1%29%2BF_rec%28n-2%29%0AF_rec%284%29&origin=opt-frontend.js&cumulative=false&heapPrimitives=false&textReferences=false&py=3&rawInputLstJSON=%5B%5D&curInstr=0&codeDivWidth=50%25&codeDivHeight=100%25\"\n",
       "            frameborder=\"0\"\n",
       "            allowfullscreen\n",
       "        ></iframe>\n",
       "        "
      ],
      "text/plain": [
       "<IPython.lib.display.IFrame at 0x10e39ef98>"
      ]
     },
     "metadata": {},
     "output_type": "display_data"
    }
   ],
   "source": [
    "%%tutor --lang python3\n",
    "def F_rec(n):\n",
    "    if n == 0: return 0\n",
    "    elif n == 1: return 1\n",
    "    else: return F_rec(n-1)+F_rec(n-2)\n",
    "F_rec(4)"
   ]
  },
  {
   "cell_type": "markdown",
   "metadata": {},
   "source": [
    "### Closed form expression"
   ]
  },
  {
   "cell_type": "code",
   "execution_count": 6,
   "metadata": {
    "collapsed": true
   },
   "outputs": [],
   "source": [
    "import math\n",
    "def F_clos(n):\n",
    "    return ((1+math.sqrt(5))**n-(1-math.sqrt(5))**n)/(2**n*math.sqrt(5))"
   ]
  },
  {
   "cell_type": "code",
   "execution_count": 8,
   "metadata": {
    "collapsed": false
   },
   "outputs": [
    {
     "data": {
      "text/plain": [
       "102334155.00000013"
      ]
     },
     "execution_count": 8,
     "metadata": {},
     "output_type": "execute_result"
    }
   ],
   "source": [
    "F_clos(40)"
   ]
  },
  {
   "cell_type": "markdown",
   "metadata": {},
   "source": [
    "*Problem*: test which function is faster - `F_rec` or `F_clos`. Test it for various values of `n`."
   ]
  },
  {
   "cell_type": "markdown",
   "metadata": {},
   "source": [
    "### How to compute Golden Ratio from Fibonacci Numbers"
   ]
  },
  {
   "cell_type": "markdown",
   "metadata": {},
   "source": [
    "The golden ratio is the limit of a sequence of the ratios of successive terms of the Fibonacci sequence (or any Fibonacci-like sequence), as originally shown by Kepler\n",
    "\n",
    "$$\\lim_{n\\to\\infty}\\frac{F(n+1)}{F(n)}=\\varphi$$"
   ]
  },
  {
   "cell_type": "markdown",
   "metadata": {},
   "source": [
    "*Problem*: Write Python function to approximate the Golden Ratio using Kepler's expression above and any of the two implementations that compute Fibinacci numbers"
   ]
  },
  {
   "cell_type": "code",
   "execution_count": 9,
   "metadata": {
    "collapsed": false
   },
   "outputs": [
    {
     "data": {
      "text/plain": [
       "1.6180339887498951"
      ]
     },
     "execution_count": 9,
     "metadata": {},
     "output_type": "execute_result"
    }
   ],
   "source": [
    "F_clos(41)/F_clos(40)"
   ]
  },
  {
   "cell_type": "markdown",
   "metadata": {},
   "source": [
    "## Fibonacchi Word\n",
    "\n",
    "How do you turn a word into a fractal?  It helps to start with the right word, and a good one is the Fibonacci word.  \n",
    "\n",
    "By a \"word\", we mean a sequence of symbols, in this case 0s and 1s.  The Fibonacci word is defined by setting f_0 to be the word \"1\" and f_1 to be the word \"0\".   To define f_n for n = 2 and higher, we simply concatenate the words f_{n-1} and f_{n-2}, with f_{n-1} on the left.  This gives f_2 = \"01\", f_3 = \"010\", f_4 = \"01001\", and so on.  Notice that the number of symbols in each of these partial words f_0, ..., f_4 is given by the sequence 1, 1, 2, 3, 5, ..., which is the famous Fibonacci sequence: each term after the first two is the sum of the previous two terms.  The Fibonacci word itself is an infinite sequence f of 0s and 1s obtained by continuing this procedure indefinitely, so that f = 0100101001001010010100100101...\n",
    "\n",
    "OK, so how do we turn this into a fractal?  Well, we interpret the word f as a sequence of instructions, such as one might have fed to a turtle-shaped pen-holding robot in the old computer language LOGO.  More specifically, the symbol \"1\" means \"draw a line forward\".  The symbol \"0\" means \"draw a line forward; then turn left if the 0 is in an even-numbered position, or turn right if the 0 is in an odd-numbered position\".  The results of applying this procedure to the words f_10 and f_17 are shown in Figure 1. Notice how the longer the word becomes, the more fractal-like the output becomes."
   ]
  },
  {
   "cell_type": "markdown",
   "metadata": {},
   "source": [
    "[Link to article on Fibonacci Word](https://plus.google.com/101584889282878921052/posts/KSuUFJV6tyv)"
   ]
  },
  {
   "cell_type": "code",
   "execution_count": 16,
   "metadata": {
    "collapsed": true
   },
   "outputs": [],
   "source": [
    "import turtle\n",
    "def fibonacci_word(n) :\n",
    "    if n < 0 :\n",
    "        return None\n",
    "    elif n == 0 :\n",
    "        return [1]\n",
    "    elif n == 1 :\n",
    "        return [0]\n",
    "    else :\n",
    "        f_n_1 = fibonacci_word(n - 1)\n",
    "        f_n_2 = fibonacci_word(n - 2)\n",
    "        return f_n_1 + f_n_2\n",
    "\n",
    "def draw_fibonacci_word(fib_word, step = 10):\n",
    "    import turtle\n",
    "    turtle.setworldcoordinates(0, 0, 800, 600)\n",
    "    turtle.Screen()\n",
    "    turtle.home()\n",
    "    for i, symbol in enumerate(fib_word):\n",
    "        turtle.forward(step)\n",
    "        if symbol == 0 and i % 2 == 0:\n",
    "            turtle.left(90)\n",
    "        elif symbol == 0 and i % 2 == 1:\n",
    "            turtle.right(90)\n",
    "\n",
    "def main_fib(n) :\n",
    "    fib_word_n = fibonacci_word(n)\n",
    "    draw_fibonacci_word(fib_word_n)"
   ]
  },
  {
   "cell_type": "code",
   "execution_count": 84,
   "metadata": {
    "collapsed": false
   },
   "outputs": [
    {
     "data": {
      "text/plain": [
       "[0, 1, 0, 0, 1, 0, 1, 0, 0, 1, 0, 0, 1, 0, 1, 0, 0, 1, 0, 1, 0]"
      ]
     },
     "execution_count": 84,
     "metadata": {},
     "output_type": "execute_result"
    }
   ],
   "source": [
    "fibonacci_word(7)"
   ]
  },
  {
   "cell_type": "code",
   "execution_count": 82,
   "metadata": {
    "collapsed": false
   },
   "outputs": [],
   "source": [
    "main_fib(7)"
   ]
  },
  {
   "cell_type": "code",
   "execution_count": 15,
   "metadata": {
    "collapsed": false
   },
   "outputs": [
    {
     "ename": "NameError",
     "evalue": "name 'turtle' is not defined",
     "output_type": "error",
     "traceback": [
      "\u001b[0;31m---------------------------------------------------------------------------\u001b[0m",
      "\u001b[0;31mNameError\u001b[0m                                 Traceback (most recent call last)",
      "\u001b[0;32m<ipython-input-15-af1255bec85b>\u001b[0m in \u001b[0;36m<module>\u001b[0;34m()\u001b[0m\n\u001b[0;32m----> 1\u001b[0;31m \u001b[0mturtle\u001b[0m\u001b[0;34m.\u001b[0m\u001b[0mbye\u001b[0m\u001b[0;34m(\u001b[0m\u001b[0;34m)\u001b[0m\u001b[0;34m\u001b[0m\u001b[0m\n\u001b[0m",
      "\u001b[0;31mNameError\u001b[0m: name 'turtle' is not defined"
     ]
    }
   ],
   "source": [
    "turtle.bye()"
   ]
  },
  {
   "cell_type": "code",
   "execution_count": 13,
   "metadata": {
    "collapsed": true
   },
   "outputs": [],
   "source": [
    "main_fib(15)"
   ]
  },
  {
   "cell_type": "code",
   "execution_count": null,
   "metadata": {
    "collapsed": true
   },
   "outputs": [],
   "source": []
  }
 ],
 "metadata": {
  "anaconda-cloud": {},
  "kernelspec": {
   "display_name": "Python 3",
   "language": "python",
   "name": "python3"
  },
  "language_info": {
   "codemirror_mode": {
    "name": "ipython",
    "version": 3
   },
   "file_extension": ".py",
   "mimetype": "text/x-python",
   "name": "python",
   "nbconvert_exporter": "python",
   "pygments_lexer": "ipython3",
   "version": "3.5.2"
  }
 },
 "nbformat": 4,
 "nbformat_minor": 1
}
